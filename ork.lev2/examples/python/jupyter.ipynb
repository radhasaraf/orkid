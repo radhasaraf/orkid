{
 "cells": [
  {
   "cell_type": "code",
   "execution_count": 25,
   "metadata": {},
   "outputs": [
    {
     "name": "stdout",
     "output_type": "stream",
     "text": [
      "vec3(1,0,0)\n"
     ]
    },
    {
     "ename": "TypeError",
     "evalue": "addQuad(): incompatible function arguments. The following argument types are supported:\n    1. (self: orkengine.lev2._lev2.meshutil.SubMesh, arg0: orkengine.core._core.vec3, arg1: orkengine.core._core.vec3, arg2: orkengine.core._core.vec3, arg3: orkengine.core._core.vec3, arg4: orkengine.core._core.vec4) -> None\n    2. (self: orkengine.lev2._lev2.meshutil.SubMesh, arg0: orkengine.core._core.vec3, arg1: orkengine.core._core.vec3, arg2: orkengine.core._core.vec3, arg3: orkengine.core._core.vec3, arg4: orkengine.core._core.vec2, arg5: orkengine.core._core.vec2, arg6: orkengine.core._core.vec2, arg7: orkengine.core._core.vec2, arg8: orkengine.core._core.vec4) -> None\n    3. (self: orkengine.lev2._lev2.meshutil.SubMesh, arg0: orkengine.core._core.vec3, arg1: orkengine.core._core.vec3, arg2: orkengine.core._core.vec3, arg3: orkengine.core._core.vec3, arg4: orkengine.core._core.vec3, arg5: orkengine.core._core.vec3, arg6: orkengine.core._core.vec3, arg7: orkengine.core._core.vec3, arg8: orkengine.core._core.vec2, arg9: orkengine.core._core.vec2, arg10: orkengine.core._core.vec2, arg11: orkengine.core._core.vec2, arg12: orkengine.core._core.vec4) -> None\n\nInvoked with: <orkengine.lev2._lev2.meshutil.SubMesh object at 0x7f2f9378fb80>, vec3(0.0414206,-0.0414206,-0.9), vec3(-0.0414206,-0.0414206,-0.9), vec3(-0.0414206,0.0414206,-0.9), vec3(0.0414206,0.0414206,-0.9)",
     "output_type": "error",
     "traceback": [
      "\u001b[0;31m---------------------------------------------------------------------------\u001b[0m",
      "\u001b[0;31mTypeError\u001b[0m                                 Traceback (most recent call last)",
      "\u001b[0;32m<ipython-input-25-7d14909ef734>\u001b[0m in \u001b[0;36m<module>\u001b[0;34m\u001b[0m\n\u001b[1;32m      7\u001b[0m \u001b[0mImage\u001b[0m\u001b[0;34m(\u001b[0m\u001b[0;34m\"Pictures/Screenshot from 2020-04-02 14-46-17.png\"\u001b[0m\u001b[0;34m)\u001b[0m\u001b[0;34m\u001b[0m\u001b[0;34m\u001b[0m\u001b[0m\n\u001b[1;32m      8\u001b[0m \u001b[0msubmesh\u001b[0m \u001b[0;34m=\u001b[0m \u001b[0mmeshutil\u001b[0m\u001b[0;34m.\u001b[0m\u001b[0mSubMesh\u001b[0m\u001b[0;34m(\u001b[0m\u001b[0;34m)\u001b[0m\u001b[0;34m\u001b[0m\u001b[0;34m\u001b[0m\u001b[0m\n\u001b[0;32m----> 9\u001b[0;31m submesh.addQuad(frus.nearCorner(3), # near\n\u001b[0m\u001b[1;32m     10\u001b[0m                  \u001b[0mfrus\u001b[0m\u001b[0;34m.\u001b[0m\u001b[0mnearCorner\u001b[0m\u001b[0;34m(\u001b[0m\u001b[0;36m2\u001b[0m\u001b[0;34m)\u001b[0m\u001b[0;34m,\u001b[0m\u001b[0;34m\u001b[0m\u001b[0;34m\u001b[0m\u001b[0m\n\u001b[1;32m     11\u001b[0m                  \u001b[0mfrus\u001b[0m\u001b[0;34m.\u001b[0m\u001b[0mnearCorner\u001b[0m\u001b[0;34m(\u001b[0m\u001b[0;36m1\u001b[0m\u001b[0;34m)\u001b[0m\u001b[0;34m,\u001b[0m\u001b[0;34m\u001b[0m\u001b[0;34m\u001b[0m\u001b[0m\n",
      "\u001b[0;31mTypeError\u001b[0m: addQuad(): incompatible function arguments. The following argument types are supported:\n    1. (self: orkengine.lev2._lev2.meshutil.SubMesh, arg0: orkengine.core._core.vec3, arg1: orkengine.core._core.vec3, arg2: orkengine.core._core.vec3, arg3: orkengine.core._core.vec3, arg4: orkengine.core._core.vec4) -> None\n    2. (self: orkengine.lev2._lev2.meshutil.SubMesh, arg0: orkengine.core._core.vec3, arg1: orkengine.core._core.vec3, arg2: orkengine.core._core.vec3, arg3: orkengine.core._core.vec3, arg4: orkengine.core._core.vec2, arg5: orkengine.core._core.vec2, arg6: orkengine.core._core.vec2, arg7: orkengine.core._core.vec2, arg8: orkengine.core._core.vec4) -> None\n    3. (self: orkengine.lev2._lev2.meshutil.SubMesh, arg0: orkengine.core._core.vec3, arg1: orkengine.core._core.vec3, arg2: orkengine.core._core.vec3, arg3: orkengine.core._core.vec3, arg4: orkengine.core._core.vec3, arg5: orkengine.core._core.vec3, arg6: orkengine.core._core.vec3, arg7: orkengine.core._core.vec3, arg8: orkengine.core._core.vec2, arg9: orkengine.core._core.vec2, arg10: orkengine.core._core.vec2, arg11: orkengine.core._core.vec2, arg12: orkengine.core._core.vec4) -> None\n\nInvoked with: <orkengine.lev2._lev2.meshutil.SubMesh object at 0x7f2f9378fb80>, vec3(0.0414206,-0.0414206,-0.9), vec3(-0.0414206,-0.0414206,-0.9), vec3(-0.0414206,0.0414206,-0.9), vec3(0.0414206,0.0414206,-0.9)"
     ]
    }
   ],
   "source": [
    "from orkengine.core import *\n",
    "from orkengine.lev2 import *\n",
    "import plotly.graph_objects as go\n",
    "from IPython.display import Image\n",
    "a = vec3(1,0,0)\n",
    "print(a)\n",
    "Image(\"Pictures/Screenshot from 2020-04-02 14-46-17.png\")\n",
    "submesh = meshutil.SubMesh()\n",
    "submesh.addQuad(frus.nearCorner(3), # near\n",
    "                 frus.nearCorner(2),\n",
    "                 frus.nearCorner(1),\n",
    "                 frus.nearCorner(0))\n",
    "submesh.addQuad(frus.farCorner(0), # far\n",
    "                 frus.farCorner(1),\n",
    "                 frus.farCorner(2),\n",
    "                 frus.farCorner(3))\n",
    "submesh.addQuad(frus.nearCorner(1), # top\n",
    "                 frus.farCorner(1),\n",
    "                 frus.farCorner(0),\n",
    "                 frus.nearCorner(0))\n",
    "submesh.addQuad(frus.nearCorner(3), # bottom\n",
    "                 frus.farCorner(3),\n",
    "                 frus.farCorner(2),\n",
    "                 frus.nearCorner(2))\n",
    "submesh.addQuad(frus.nearCorner(0), # left\n",
    "                 frus.farCorner(0),\n",
    "                 frus.farCorner(3),\n",
    "                 frus.nearCorner(3))\n",
    "submesh.addQuad(frus.nearCorner(2), # right\n",
    "                 frus.farCorner(2),\n",
    "                 frus.farCorner(1),\n",
    "                 frus.nearCorner(1))\n",
    "iglm = submesh.toIglMesh()\n",
    "verts = iglm.vertices\n",
    "faces = iglm.faces\n",
    "verts_x = verts[:, 0]\n",
    "verts_y = verts[:, 1]\n",
    "verts_z = verts[:, 2]\n",
    "print(verts_x)\n",
    "print(verts_y)\n",
    "print(verts_z)\n",
    "print(faces)\n",
    "print(faces[:,0])\n",
    "print(faces[:,1])\n",
    "print(faces[:,2])\n",
    "fig = go.Figure(data=[\n",
    "    go.Mesh3d(x=verts_x,\n",
    "        y=verts_y,\n",
    "        z=verts_z,\n",
    "        # Intensity of each vertex, which will be interpolated and color-coded\n",
    "        intensity=[0, 0.33, 0.66, 1],\n",
    "        # i, j and k give the vertices of triangles\n",
    "        # here we represent the 4 triangles of the tetrahedron surface\n",
    "        i=faces[:,0],\n",
    "        j=faces[:,1],\n",
    "        k=faces[:,2],\n",
    "        name='y',\n",
    "        showscale=True\n",
    "    )\n",
    "])\n",
    "fig.show()\n"
   ]
  },
  {
   "cell_type": "code",
   "execution_count": null,
   "metadata": {},
   "outputs": [],
   "source": []
  }
 ],
 "metadata": {
  "kernelspec": {
   "display_name": "Python 3",
   "language": "python",
   "name": "python3"
  },
  "language_info": {
   "codemirror_mode": {
    "name": "ipython",
    "version": 3
   },
   "file_extension": ".py",
   "mimetype": "text/x-python",
   "name": "python",
   "nbconvert_exporter": "python",
   "pygments_lexer": "ipython3",
   "version": "3.8.1"
  }
 },
 "nbformat": 4,
 "nbformat_minor": 4
}
